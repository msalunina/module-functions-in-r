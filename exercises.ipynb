{
 "cells": [
  {
   "cell_type": "markdown",
   "metadata": {
    "ein.tags": "worksheet-0",
    "slideshow": {
     "slide_type": "-"
    }
   },
   "source": [
    "## Writing Functions\n",
    "\n",
    "The goal of this exercise is to replicate the process from the slides, but with multivariate data. You should think of this as a practise of two things: \n",
    "\n",
    "1. Performing linear algebra in R. This is straight forward, but takes some practise. Especially worth noting how to use vectors and scalars together, as you see how to modify the functions we originally wrote for scalars, such that they work for vectors.\n",
    "\n",
    "2. Writing small functions and testing them. Make sure each part works before trying to combine them into a whole!"
   ]
  },
  {
   "cell_type": "code",
   "execution_count": 37,
   "metadata": {
    "autoscroll": false,
    "ein.hycell": false,
    "ein.tags": "worksheet-0",
    "slideshow": {
     "slide_type": "-"
    }
   },
   "outputs": [],
   "source": [
    "library(tidyverse)"
   ]
  },
  {
   "cell_type": "code",
   "execution_count": 38,
   "metadata": {
    "autoscroll": false,
    "ein.hycell": false,
    "ein.tags": "worksheet-0",
    "slideshow": {
     "slide_type": "-"
    }
   },
   "outputs": [],
   "source": [
    "# Write a function that generates data for regressions, \n",
    "\n",
    "# y should be generated according to: \n",
    "# y <- X %*% beta + eps\n",
    "# X should be several columns of independent random normals (aka a multivariate random \n",
    "# normal matrix with diagonal covariance)\n",
    "# eps should be such that:\n",
    "# eps <- rnorm(1, 0, sd)\n",
    "\n",
    "# beta should be a vector\n",
    "# params should be a DATAFRAME/TIBBLE with two columns: \"mean\" and \"sd\" to generate the features (X) \n",
    "# sd should be a scalar: the standard deviation of the normally distributed error term in the DGP\n",
    "\n",
    "# hint: use cbind to bind vectors into the columns of a matrix or the library MASS with the function mvrnorm\n",
    "\n",
    "\n",
    "# generate_data <- function(N, beta, params, sd) { \n",
    "#     list(X=X, y=y)\n",
    "# }"
   ]
  },
  {
   "cell_type": "code",
   "execution_count": 39,
   "metadata": {},
   "outputs": [
    {
     "data": {
      "text/html": [
       "<dl>\n",
       "\t<dt>$x</dt>\n",
       "\t\t<dd><ol class=list-inline>\n",
       "\t<li>0.82782990220824</li>\n",
       "\t<li>0.504647826271264</li>\n",
       "\t<li>1.4635237319</li>\n",
       "\t<li>0.377968940166949</li>\n",
       "\t<li>-0.938384624236085</li>\n",
       "\t<li>1.92665947340566</li>\n",
       "\t<li>0.650525365628763</li>\n",
       "\t<li>1.07944691545094</li>\n",
       "\t<li>2.02276414043746</li>\n",
       "\t<li>-0.180563563563272</li>\n",
       "</ol>\n",
       "</dd>\n",
       "\t<dt>$y</dt>\n",
       "\t\t<dd><ol class=list-inline>\n",
       "\t<li>-1.63728617340695</li>\n",
       "\t<li>-2.51448523476334</li>\n",
       "\t<li>3.31752119448005</li>\n",
       "\t<li>3.86850972872574</li>\n",
       "\t<li>-2.18834424946947</li>\n",
       "\t<li>2.32533098955194</li>\n",
       "\t<li>4.62794279653097</li>\n",
       "\t<li>-0.0456081223837037</li>\n",
       "\t<li>9.20390392175647</li>\n",
       "\t<li>4.57329654353347</li>\n",
       "</ol>\n",
       "</dd>\n",
       "</dl>\n"
      ],
      "text/latex": [
       "\\begin{description}\n",
       "\\item[\\$x] \\begin{enumerate*}\n",
       "\\item 0.82782990220824\n",
       "\\item 0.504647826271264\n",
       "\\item 1.4635237319\n",
       "\\item 0.377968940166949\n",
       "\\item -0.938384624236085\n",
       "\\item 1.92665947340566\n",
       "\\item 0.650525365628763\n",
       "\\item 1.07944691545094\n",
       "\\item 2.02276414043746\n",
       "\\item -0.180563563563272\n",
       "\\end{enumerate*}\n",
       "\n",
       "\\item[\\$y] \\begin{enumerate*}\n",
       "\\item -1.63728617340695\n",
       "\\item -2.51448523476334\n",
       "\\item 3.31752119448005\n",
       "\\item 3.86850972872574\n",
       "\\item -2.18834424946947\n",
       "\\item 2.32533098955194\n",
       "\\item 4.62794279653097\n",
       "\\item -0.0456081223837037\n",
       "\\item 9.20390392175647\n",
       "\\item 4.57329654353347\n",
       "\\end{enumerate*}\n",
       "\n",
       "\\end{description}\n"
      ],
      "text/markdown": [
       "$x\n",
       ":   1. 0.82782990220824\n",
       "2. 0.504647826271264\n",
       "3. 1.4635237319\n",
       "4. 0.377968940166949\n",
       "5. -0.938384624236085\n",
       "6. 1.92665947340566\n",
       "7. 0.650525365628763\n",
       "8. 1.07944691545094\n",
       "9. 2.02276414043746\n",
       "10. -0.180563563563272\n",
       "\n",
       "\n",
       "\n",
       "$y\n",
       ":   1. -1.63728617340695\n",
       "2. -2.51448523476334\n",
       "3. 3.31752119448005\n",
       "4. 3.86850972872574\n",
       "5. -2.18834424946947\n",
       "6. 2.32533098955194\n",
       "7. 4.62794279653097\n",
       "8. -0.0456081223837037\n",
       "9. 9.20390392175647\n",
       "10. 4.57329654353347\n",
       "\n",
       "\n",
       "\n",
       "\n",
       "\n"
      ],
      "text/plain": [
       "$x\n",
       " [1]  0.8278299  0.5046478  1.4635237  0.3779689 -0.9383846  1.9266595\n",
       " [7]  0.6505254  1.0794469  2.0227641 -0.1805636\n",
       "\n",
       "$y\n",
       " [1] -1.63728617 -2.51448523  3.31752119  3.86850973 -2.18834425  2.32533099\n",
       " [7]  4.62794280 -0.04560812  9.20390392  4.57329654\n"
      ]
     },
     "metadata": {},
     "output_type": "display_data"
    }
   ],
   "source": [
    "generate_data <- function(N, beta, sd) {\n",
    "    x <- rnorm(N, 0, 1)\n",
    "    eps <- rnorm(N, 0, sd)\n",
    "    y <- beta*x + eps\n",
    "    list(x = x, y = y)\n",
    "}\n",
    "\n",
    "data <- generate_data(10, 3, 3)\n",
    "data"
   ]
  },
  {
   "cell_type": "code",
   "execution_count": 40,
   "metadata": {},
   "outputs": [],
   "source": [
    "# OLS regression\n",
    "\n",
    "calc_coef <- function(y,x) cov(x,y) / var(x)\n",
    "\n",
    "calc_se <- function(y, x, coef) {\n",
    "    n <- length(y)\n",
    "    eps <- y - x*coef\n",
    "    e_sd <- mean(eps^2)\n",
    "    se <- sqrt(e_sd / (n*var(x)))\n",
    "    se\n",
    "}\n",
    "\n",
    "run_regression <- function(y, x) {\n",
    "    coef <- calc_coef(y, x)\n",
    "    se <- calc_se(y, x, coef)\n",
    "    list(coef=coef, se=se)\n",
    "}"
   ]
  },
  {
   "cell_type": "code",
   "execution_count": 41,
   "metadata": {},
   "outputs": [
    {
     "data": {
      "text/html": [
       "<dl>\n",
       "\t<dt>$coef</dt>\n",
       "\t\t<dd>1.89816097642308</dd>\n",
       "\t<dt>$se</dt>\n",
       "\t\t<dd>1.11015152405405</dd>\n",
       "</dl>\n"
      ],
      "text/latex": [
       "\\begin{description}\n",
       "\\item[\\$coef] 1.89816097642308\n",
       "\\item[\\$se] 1.11015152405405\n",
       "\\end{description}\n"
      ],
      "text/markdown": [
       "$coef\n",
       ":   1.89816097642308\n",
       "$se\n",
       ":   1.11015152405405\n",
       "\n",
       "\n"
      ],
      "text/plain": [
       "$coef\n",
       "[1] 1.898161\n",
       "\n",
       "$se\n",
       "[1] 1.110152\n"
      ]
     },
     "metadata": {},
     "output_type": "display_data"
    }
   ],
   "source": [
    "run_regression(data$y, data$x)"
   ]
  },
  {
   "cell_type": "code",
   "execution_count": 42,
   "metadata": {},
   "outputs": [],
   "source": [
    "# Write other helper functions, as in the slides, and eventually a function \"avg_simulations\" that takes\n",
    "# the same parameters as generate_data, plus an \"M\" parameter that controls how many simulations are run"
   ]
  },
  {
   "cell_type": "code",
   "execution_count": 43,
   "metadata": {},
   "outputs": [],
   "source": [
    "eval_model <- function(coef, se, beta, conf = 1.96) {\n",
    "    up <- coef + se*conf\n",
    "    down <- coef - se*conf\n",
    "    beta > down & beta < up\n",
    "}\n",
    "\n",
    "simulate <- function(N, beta, sd) {\n",
    "    d <- generate_data(N, beta, sd)\n",
    "    m <- run_regression(d$y, d$x)\n",
    "    eval_model(m$coef, m$se, beta)\n",
    "}\n",
    "\n",
    "avg_simulations <- function(M, N, beta, sd) {\n",
    "    inside <- sapply(1:M, function (x) {\n",
    "        simulate(N, beta, sd)\n",
    "    })\n",
    "    sum(inside) / M\n",
    "}"
   ]
  },
  {
   "cell_type": "code",
   "execution_count": 44,
   "metadata": {},
   "outputs": [
    {
     "data": {
      "text/html": [
       "TRUE"
      ],
      "text/latex": [
       "TRUE"
      ],
      "text/markdown": [
       "TRUE"
      ],
      "text/plain": [
       "[1] TRUE"
      ]
     },
     "metadata": {},
     "output_type": "display_data"
    }
   ],
   "source": [
    "simulate(100, .5, .5)"
   ]
  },
  {
   "cell_type": "code",
   "execution_count": 47,
   "metadata": {},
   "outputs": [
    {
     "data": {
      "text/html": [
       "<ol class=list-inline>\n",
       "\t<li>1</li>\n",
       "\t<li>2</li>\n",
       "\t<li>3</li>\n",
       "\t<li>4</li>\n",
       "\t<li>5</li>\n",
       "\t<li>6</li>\n",
       "\t<li>7</li>\n",
       "\t<li>8</li>\n",
       "\t<li>9</li>\n",
       "\t<li>10</li>\n",
       "</ol>\n"
      ],
      "text/latex": [
       "\\begin{enumerate*}\n",
       "\\item 1\n",
       "\\item 2\n",
       "\\item 3\n",
       "\\item 4\n",
       "\\item 5\n",
       "\\item 6\n",
       "\\item 7\n",
       "\\item 8\n",
       "\\item 9\n",
       "\\item 10\n",
       "\\end{enumerate*}\n"
      ],
      "text/markdown": [
       "1. 1\n",
       "2. 2\n",
       "3. 3\n",
       "4. 4\n",
       "5. 5\n",
       "6. 6\n",
       "7. 7\n",
       "8. 8\n",
       "9. 9\n",
       "10. 10\n",
       "\n",
       "\n"
      ],
      "text/plain": [
       " [1]  1  2  3  4  5  6  7  8  9 10"
      ]
     },
     "metadata": {},
     "output_type": "display_data"
    }
   ],
   "source": [
    "1:10 #vector of integers"
   ]
  },
  {
   "cell_type": "code",
   "execution_count": 56,
   "metadata": {},
   "outputs": [
    {
     "name": "stdout",
     "output_type": "stream",
     "text": [
      "[1] 1\n",
      "[1] 2\n",
      "[1] 3\n",
      "[1] 4\n",
      "[1] 5\n",
      "[1] 6\n",
      "[1] 7\n",
      "[1] 8\n",
      "[1] 9\n",
      "[1] 10\n"
     ]
    },
    {
     "data": {
      "text/html": [
       "<ol class=list-inline>\n",
       "\t<li>1</li>\n",
       "\t<li>4</li>\n",
       "\t<li>9</li>\n",
       "\t<li>16</li>\n",
       "\t<li>25</li>\n",
       "\t<li>36</li>\n",
       "\t<li>49</li>\n",
       "\t<li>64</li>\n",
       "\t<li>81</li>\n",
       "\t<li>100</li>\n",
       "</ol>\n"
      ],
      "text/latex": [
       "\\begin{enumerate*}\n",
       "\\item 1\n",
       "\\item 4\n",
       "\\item 9\n",
       "\\item 16\n",
       "\\item 25\n",
       "\\item 36\n",
       "\\item 49\n",
       "\\item 64\n",
       "\\item 81\n",
       "\\item 100\n",
       "\\end{enumerate*}\n"
      ],
      "text/markdown": [
       "1. 1\n",
       "2. 4\n",
       "3. 9\n",
       "4. 16\n",
       "5. 25\n",
       "6. 36\n",
       "7. 49\n",
       "8. 64\n",
       "9. 81\n",
       "10. 100\n",
       "\n",
       "\n"
      ],
      "text/plain": [
       " [1]   1   4   9  16  25  36  49  64  81 100"
      ]
     },
     "metadata": {},
     "output_type": "display_data"
    }
   ],
   "source": [
    "applier <- function(x) {\n",
    "    # x is integer\n",
    "    print(x)\n",
    "    x**2\n",
    "}\n",
    "\n",
    "## different return\n",
    "sapply(1:10, applier) ## returns vector\n",
    "# lapply(1:10, applier) ## returns list"
   ]
  },
  {
   "cell_type": "code",
   "execution_count": 63,
   "metadata": {},
   "outputs": [
    {
     "data": {
      "text/html": [
       "<ol class=list-inline>\n",
       "\t<li>TRUE</li>\n",
       "\t<li>TRUE</li>\n",
       "\t<li>TRUE</li>\n",
       "\t<li>TRUE</li>\n",
       "\t<li>TRUE</li>\n",
       "\t<li>TRUE</li>\n",
       "\t<li>TRUE</li>\n",
       "\t<li>TRUE</li>\n",
       "\t<li>TRUE</li>\n",
       "\t<li>TRUE</li>\n",
       "</ol>\n"
      ],
      "text/latex": [
       "\\begin{enumerate*}\n",
       "\\item TRUE\n",
       "\\item TRUE\n",
       "\\item TRUE\n",
       "\\item TRUE\n",
       "\\item TRUE\n",
       "\\item TRUE\n",
       "\\item TRUE\n",
       "\\item TRUE\n",
       "\\item TRUE\n",
       "\\item TRUE\n",
       "\\end{enumerate*}\n"
      ],
      "text/markdown": [
       "1. TRUE\n",
       "2. TRUE\n",
       "3. TRUE\n",
       "4. TRUE\n",
       "5. TRUE\n",
       "6. TRUE\n",
       "7. TRUE\n",
       "8. TRUE\n",
       "9. TRUE\n",
       "10. TRUE\n",
       "\n",
       "\n"
      ],
      "text/plain": [
       " [1] TRUE TRUE TRUE TRUE TRUE TRUE TRUE TRUE TRUE TRUE"
      ]
     },
     "metadata": {},
     "output_type": "display_data"
    }
   ],
   "source": [
    "applier <- function(N, beta, sd) {\n",
    "    # x is integer\n",
    "    simulate(N, beta, sd)\n",
    "}\n",
    "\n",
    "sapply(1:10, function (x) applier(100, .5, .5)) ## lambda fucntion"
   ]
  },
  {
   "cell_type": "code",
   "execution_count": 73,
   "metadata": {},
   "outputs": [
    {
     "data": {
      "text/html": [
       "<ol class=list-inline>\n",
       "\t<li>1</li>\n",
       "\t<li>1</li>\n",
       "\t<li>1</li>\n",
       "\t<li>1</li>\n",
       "\t<li>0</li>\n",
       "\t<li>1</li>\n",
       "\t<li>1</li>\n",
       "\t<li>1</li>\n",
       "\t<li>1</li>\n",
       "\t<li>1</li>\n",
       "</ol>\n"
      ],
      "text/latex": [
       "\\begin{enumerate*}\n",
       "\\item 1\n",
       "\\item 1\n",
       "\\item 1\n",
       "\\item 1\n",
       "\\item 0\n",
       "\\item 1\n",
       "\\item 1\n",
       "\\item 1\n",
       "\\item 1\n",
       "\\item 1\n",
       "\\end{enumerate*}\n"
      ],
      "text/markdown": [
       "1. 1\n",
       "2. 1\n",
       "3. 1\n",
       "4. 1\n",
       "5. 0\n",
       "6. 1\n",
       "7. 1\n",
       "8. 1\n",
       "9. 1\n",
       "10. 1\n",
       "\n",
       "\n"
      ],
      "text/plain": [
       " [1] 1 1 1 1 0 1 1 1 1 1"
      ]
     },
     "metadata": {},
     "output_type": "display_data"
    }
   ],
   "source": [
    "M <- 10\n",
    "# output <- rep(TRUE, M)\n",
    "output <- rep(0, M)\n",
    "\n",
    "## automatically converts booleans if it was an integeres vector before\n",
    "for (i in 1:M) {\n",
    "    output[i] <- simulate(100, .5, .5)\n",
    "}\n",
    "\n",
    "output"
   ]
  },
  {
   "cell_type": "code",
   "execution_count": 79,
   "metadata": {},
   "outputs": [
    {
     "data": {
      "text/html": [
       "0.935"
      ],
      "text/latex": [
       "0.935"
      ],
      "text/markdown": [
       "0.935"
      ],
      "text/plain": [
       "[1] 0.935"
      ]
     },
     "metadata": {},
     "output_type": "display_data"
    }
   ],
   "source": [
    "run <- function(M, N, beta, sd) {\n",
    "    res <- sapply(1:M, function (x) simulate(N, beta, sd))\n",
    "    sum(res) / M\n",
    "}\n",
    "                  \n",
    "run(1000, 100, .5, .5)"
   ]
  },
  {
   "cell_type": "markdown",
   "metadata": {},
   "source": [
    "## Tests\n",
    "\n",
    "Make sure the following assertions pass:"
   ]
  },
  {
   "cell_type": "code",
   "execution_count": 45,
   "metadata": {},
   "outputs": [
    {
     "ename": "ERROR",
     "evalue": "Error in avg_simulations(1000, 20, c(1, 2, 1), data.frame(list(mean = c(0, : unused argument (0.5)\n",
     "output_type": "error",
     "traceback": [
      "Error in avg_simulations(1000, 20, c(1, 2, 1), data.frame(list(mean = c(0, : unused argument (0.5)\nTraceback:\n"
     ]
    }
   ],
   "source": [
    "a <- avg_simulations(1000, \n",
    "                20, \n",
    "                c(1,2,1), \n",
    "                data.frame(list(mean=c(0,0,0), sd=c(.2, .5, .3))), \n",
    "                .5)\n",
    "\n",
    "stopifnot(round(a, 1) == .9)"
   ]
  },
  {
   "cell_type": "code",
   "execution_count": 46,
   "metadata": {},
   "outputs": [
    {
     "ename": "ERROR",
     "evalue": "Error in avg_simulations(1000, 500, c(1, 2, 1), data.frame(list(mean = c(0, : unused argument (0.5)\n",
     "output_type": "error",
     "traceback": [
      "Error in avg_simulations(1000, 500, c(1, 2, 1), data.frame(list(mean = c(0, : unused argument (0.5)\nTraceback:\n"
     ]
    }
   ],
   "source": [
    "a <- avg_simulations(1000, \n",
    "                500, \n",
    "                c(1,2,1), \n",
    "                data.frame(list(mean=c(0,0,0), sd=c(.2, .5, .3))), \n",
    "                .5)\n",
    "\n",
    "stopifnot(a > .92)"
   ]
  },
  {
   "cell_type": "code",
   "execution_count": null,
   "metadata": {},
   "outputs": [],
   "source": []
  }
 ],
 "metadata": {
  "kernelspec": {
   "display_name": "R",
   "language": "R",
   "name": "ir"
  },
  "language_info": {
   "codemirror_mode": "r",
   "file_extension": ".r",
   "mimetype": "text/x-r-source",
   "name": "R",
   "pygments_lexer": "r",
   "version": "3.6.1"
  },
  "name": "exercises.ipynb"
 },
 "nbformat": 4,
 "nbformat_minor": 2
}
